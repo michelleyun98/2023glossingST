{
  "cells": [
    {
      "cell_type": "code",
      "execution_count": 1,
      "metadata": {
        "colab": {
          "base_uri": "https://localhost:8080/"
        },
        "id": "lvu9i-NYbOmR",
        "outputId": "4caef34b-44f5-4fb4-eb61-b4d71152c119"
      },
      "outputs": [
        {
          "output_type": "stream",
          "name": "stdout",
          "text": [
            "Mounted at /content/drive\n"
          ]
        }
      ],
      "source": [
        "import pandas as pd\n",
        "from collections import Counter\n",
        "from itertools import chain\n",
        "from google.colab import drive\n",
        "drive.mount('/content/drive')"
      ],
      "id": "lvu9i-NYbOmR"
    },
    {
      "cell_type": "code",
      "execution_count": 2,
      "metadata": {
        "id": "zaV1SMr9LG18"
      },
      "outputs": [],
      "source": [
        "## CONSTANTS\n",
        "lang2code = {\n",
        "    \"Gitksan\" : \"git\", \n",
        "    \"Arapaho\" : \"arp\", \n",
        "    \"Lezgi\" : \"lez\", \n",
        "    \"Nyangbo\" : \"nyb\", \n",
        "    \"Tsez\" : \"ddo\",\n",
        "    \"Uspanteko\" : \"usp\",  \n",
        "    \"Natugu\" : \"ntu\"\n",
        "    }\n",
        "code2lang = {v:k for k,v in lang2code.items()}\n",
        "\n",
        "PATH = \"/content/drive/MyDrive/2023glossingST/\""
      ],
      "id": "zaV1SMr9LG18"
    },
    {
      "cell_type": "code",
      "source": [
        "# def escape_parentheses(string):\n",
        "#     escaped_string = re.sub(r'([()])', r'\\\\\\1', string)\n",
        "#     return escaped_string\n",
        "specials = {'(', ')', '[', ']', '*', '|', ''}\n",
        "def escape(string):\n",
        "    escaped_string = ''\n",
        "    for char in string:\n",
        "        if char in specials:\n",
        "            escaped_string += \"\\\\\" + char\n",
        "        else:\n",
        "            escaped_string += char\n",
        "    return escaped_string"
      ],
      "metadata": {
        "id": "zy7fXlFQ-fiL"
      },
      "id": "zy7fXlFQ-fiL",
      "execution_count": 20,
      "outputs": []
    },
    {
      "cell_type": "code",
      "execution_count": 4,
      "metadata": {
        "id": "p5s_A0L2kXWT"
      },
      "outputs": [],
      "source": [
        "CODE = \"ddo\"\n",
        "LANG = code2lang[CODE]\n",
        "DATA = f\"{PATH}data/{LANG}/{CODE}-train-track1-uncovered\""
      ],
      "id": "p5s_A0L2kXWT"
    },
    {
      "cell_type": "code",
      "source": [
        "from collections import defaultdict\n",
        "\n",
        "data = defaultdict(list)\n",
        "with open(DATA, \"r\", encoding=\"utf-8\") as fin:\n",
        "  for line in fin.readlines():\n",
        "    line = escape(line)\n",
        "\n",
        "    if line.startswith(\"\\\\t\"):\n",
        "      data[\"source\"].append(line.strip(\"\\\\t \").strip(\"\\n\"))\n",
        "    if line.startswith(\"\\g\"):\n",
        "      data[\"target\"].append(line.strip(\"\\g \").strip(\"\\n\"))\n",
        "    if line.startswith(\"\\l\"):\n",
        "      data[\"trans\"].append(line.strip(\"\\l \").strip(\"\\n\"))"
      ],
      "metadata": {
        "id": "chmiQKI1t2fb"
      },
      "id": "chmiQKI1t2fb",
      "execution_count": 21,
      "outputs": []
    },
    {
      "cell_type": "code",
      "source": [
        "FRAG_LEN = 2\n",
        "WINDOW_SIZE = 2"
      ],
      "metadata": {
        "id": "uIkRyqv6nvwM"
      },
      "id": "uIkRyqv6nvwM",
      "execution_count": 23,
      "outputs": []
    },
    {
      "cell_type": "code",
      "source": [
        "df = pd.DataFrame.from_dict(data)\n",
        "df[\"tokenized_src\"] = df[\"source\"].map(lambda x:x.split())\n",
        "df[\"tokenized_trg\"] = df[\"target\"].map(lambda x:x.split())\n",
        "df[\"tokenized_trans\"] = df[\"trans\"].map(lambda x:x.split())\n"
      ],
      "metadata": {
        "id": "oVmmIkDzni6e"
      },
      "id": "oVmmIkDzni6e",
      "execution_count": 24,
      "outputs": []
    },
    {
      "cell_type": "code",
      "source": [
        "TOKENS = list(chain(*df[\"tokenized_src\"].tolist()))\n",
        "print(len(TOKENS))"
      ],
      "metadata": {
        "colab": {
          "base_uri": "https://localhost:8080/"
        },
        "id": "lGzanuHnzila",
        "outputId": "28960c26-cc53-4a2a-a5b9-2a6bc84f8190"
      },
      "id": "lGzanuHnzila",
      "execution_count": 25,
      "outputs": [
        {
          "output_type": "stream",
          "name": "stdout",
          "text": [
            "37458\n"
          ]
        }
      ]
    },
    {
      "cell_type": "code",
      "source": [
        "len(df.source)"
      ],
      "metadata": {
        "colab": {
          "base_uri": "https://localhost:8080/"
        },
        "id": "5ZnzM11h8ZEo",
        "outputId": "48839f9f-3840-4451-abd9-e2809c166cae"
      },
      "id": "5ZnzM11h8ZEo",
      "execution_count": 26,
      "outputs": [
        {
          "output_type": "execute_result",
          "data": {
            "text/plain": [
              "3558"
            ]
          },
          "metadata": {},
          "execution_count": 26
        }
      ]
    },
    {
      "cell_type": "code",
      "source": [
        "counts = Counter()\n",
        "for t in TOKENS:\n",
        "  counts.update([t])"
      ],
      "metadata": {
        "id": "1fu-RWo-dBF7"
      },
      "id": "1fu-RWo-dBF7",
      "execution_count": 27,
      "outputs": []
    },
    {
      "cell_type": "code",
      "source": [
        "tokens = {t for t,c in counts.most_common() if c > 30}"
      ],
      "metadata": {
        "id": "2L4Xbo65dUxv"
      },
      "id": "2L4Xbo65dUxv",
      "execution_count": 28,
      "outputs": []
    },
    {
      "cell_type": "code",
      "source": [
        "def get_tok2gloss(df):\n",
        "  toks = df.tokenized_src\n",
        "  gls = df.tokenized_trg\n",
        "  tok2gloss = defaultdict(dict)\n",
        "  for i, (t,g) in enumerate(zip(toks, gls)):\n",
        "    for n,x in enumerate(t):\n",
        "      tok2gloss[i][x]=g[n]\n",
        "  return tok2gloss"
      ],
      "metadata": {
        "id": "2ZMd1zkUTm5J"
      },
      "id": "2ZMd1zkUTm5J",
      "execution_count": 30,
      "outputs": []
    },
    {
      "cell_type": "code",
      "source": [
        "tok2gloss = get_tok2gloss(df)"
      ],
      "metadata": {
        "id": "S9FMX9rzoJhq"
      },
      "id": "S9FMX9rzoJhq",
      "execution_count": 31,
      "outputs": []
    },
    {
      "cell_type": "code",
      "source": [
        "import re\n",
        "SEP, BD, BLANK = \" [SEP] \", \"@\", \"#\"\n",
        "\n",
        "def slice(line, fragment_len=FRAG_LEN):\n",
        "  slices = []\n",
        "  for i in range(len(line)-1):\n",
        "    frag = line[i:i+fragment_len]\n",
        "    if set(frag).intersection(tokens) or set(frag).intersection(specials):\n",
        "      continue\n",
        "    else:\n",
        "      slices.append(\" \".join(frag))\n",
        "  return slices\n",
        "\n",
        "def extract_template(line, fragment):\n",
        "  format = lambda x: r\"{}\".format(x)\n",
        "  return re.sub(format(fragment), BLANK, format(line))\n",
        "\n",
        "def segment(ex, direction,windows=WINDOW_SIZE):\n",
        "  ex = ex.split()\n",
        "  if direction == \"l\": ex = ex[::-1]\n",
        "  splits = []\n",
        "  sid = 0\n",
        "  for i in range(1, WINDOW_SIZE + 1):\n",
        "    split = ex[sid:sid+i]\n",
        "    if direction == \"l\":\n",
        "      splits.append(split[::-1])\n",
        "    else:\n",
        "      splits.append(split)\n",
        "    \n",
        "  return splits\n",
        "\n",
        "\n",
        "env_process = lambda x,y:segment(x,y) if x else [BD] * WINDOW_SIZE"
      ],
      "metadata": {
        "id": "u89hMVUFnsUh"
      },
      "id": "u89hMVUFnsUh",
      "execution_count": 32,
      "outputs": []
    },
    {
      "cell_type": "code",
      "source": [
        "def extract_environment(template):\n",
        "  envs = []\n",
        "  contexts = template.split(BLANK)\n",
        "  for i in range(len(contexts) - 1):\n",
        "    prev, post = env_process(contexts[i],\"l\"), env_process(contexts[i+1],\"r\")\n",
        "    for pr, po in zip(prev, post):\n",
        "      envs.append(SEP.join([\" \".join(pr), \" \".join(po)]))\n",
        "\n",
        "  return envs"
      ],
      "metadata": {
        "id": "SbSDzuRAt8Ki"
      },
      "id": "SbSDzuRAt8Ki",
      "execution_count": 33,
      "outputs": []
    },
    {
      "cell_type": "code",
      "source": [
        "ex = df.tokenized_src[6]\n",
        "frags = slice(ex)\n",
        "line = \" \".join(ex)\n",
        "template = extract_template(line, frags[0])\n",
        "template"
      ],
      "metadata": {
        "colab": {
          "base_uri": "https://localhost:8080/",
          "height": 35
        },
        "id": "HsQi1LbKgQle",
        "outputId": "0aad38b0-51c4-4981-c038-f5cb538f586a"
      },
      "id": "HsQi1LbKgQle",
      "execution_count": 34,
      "outputs": [
        {
          "output_type": "execute_result",
          "data": {
            "text/plain": [
              "'Ža nesi # nełał hunix, oc’ira ƛˤeba adäztow nełqor roƛ’i boqno zawru, k’ačaɣˤ c’oxno.'"
            ],
            "application/vnd.google.colaboratory.intrinsic+json": {
              "type": "string"
            }
          },
          "metadata": {},
          "execution_count": 34
        }
      ]
    },
    {
      "cell_type": "code",
      "source": [
        "col = \"tokenized_src\"\n",
        "MIN = 5\n",
        "# seqs=df.tokenized\n",
        "# glosses = df.tokenized_g\n",
        "envss=[]\n",
        "f2t = defaultdict(set)\n",
        "t2f = defaultdict(set)\n",
        "e2t = defaultdict(set)\n",
        "f2e = defaultdict(set)\n",
        "frag_ids = []\n",
        "\n",
        "for i in range(len(df)):\n",
        "  seq = df[col][i]\n",
        "  if len(seq) < MIN:\n",
        "    continue\n",
        "  fragments = slice(seq)\n",
        "  for f in fragments:\n",
        "    if f[0] in specials:\n",
        "      f = \"\\\\\"+f\n",
        "    frag_ids.append((f, i))\n",
        "    template = extract_template(\" \".join(seq),f)\n",
        "    envs = extract_environment(template)\n",
        "    if len(envs) < 2:\n",
        "      continue\n",
        "    for e in envs:\n",
        "      f2e[f].add(e)\n",
        "      e2t[e].add((template,i))\n",
        "      \n",
        "  "
      ],
      "metadata": {
        "id": "BBinuv-cOCsg"
      },
      "id": "BBinuv-cOCsg",
      "execution_count": 35,
      "outputs": []
    },
    {
      "cell_type": "code",
      "source": [
        "matched = set()\n",
        "new = {}\n",
        "\n",
        "for frag, id in frag_ids:\n",
        "  if (frag, id) in new:\n",
        "    continue\n",
        "\n",
        "\n",
        "  ref = f2e[frag]\n",
        "  for frag2,id2 in frag_ids:\n",
        "    if frag2 == frag:\n",
        "      continue\n",
        "    comp = f2e[frag2]\n",
        "    matches = ref.intersection(comp)\n",
        "    if matches:\n",
        "      for environment in matches:\n",
        "        #print(environment)\n",
        "        new_temps = e2t[environment]\n",
        "        new_temps = [(e, i) for e, i in new_temps if not i == id2]\n",
        "        #print(new_temps)\n",
        "        new[(frag2,id2)] = new_temps\n",
        " "
      ],
      "metadata": {
        "id": "AW3OSpsfWeEA"
      },
      "id": "AW3OSpsfWeEA",
      "execution_count": 36,
      "outputs": []
    },
    {
      "cell_type": "code",
      "source": [
        "def translate_template(template_id):\n",
        "  template, id = template_id\n",
        "  translated_template = \" \".join([BLANK if s == BLANK else tok2gloss[id][s] for s in template.split()])\n",
        "  return translated_template\n",
        "\n",
        "def translate_fragment(frag_id):\n",
        "  frag, id = frag_id\n",
        "  return \" \".join([tok2gloss[id][s] for s in frag.split()])"
      ],
      "metadata": {
        "id": "ycORA3efOmsJ"
      },
      "id": "ycORA3efOmsJ",
      "execution_count": 38,
      "outputs": []
    },
    {
      "cell_type": "code",
      "source": [
        "sub = lambda fragment, templates: [re.sub(BLANK,fragment,temp) for temp in templates]"
      ],
      "metadata": {
        "id": "J6uVPbnZlwd7"
      },
      "id": "J6uVPbnZlwd7",
      "execution_count": 39,
      "outputs": []
    },
    {
      "cell_type": "code",
      "source": [
        "def get_examples(new):\n",
        "  p = set()\n",
        "  for frag in new:\n",
        "    try:\n",
        "      temps = new[frag]\n",
        "      trg_frag = translate_fragment(frag)\n",
        "      trg_temp = [translate_template(t) for t in temps]\n",
        "\n",
        "      src_frag = frag[0]\n",
        "      src_temp = [t for t,i in temps]\n",
        "      target = (sub(trg_frag,trg_temp))\n",
        "      src = sub(src_frag,src_temp)\n",
        "      for i,(t,s) in enumerate(zip(target,src)):\n",
        "        p.add((s,t))\n",
        "    except KeyError:\n",
        "      continue\n",
        "  return [i for i in p]\n",
        "\n",
        "\n"
      ],
      "metadata": {
        "id": "g_sYRldqeX_s"
      },
      "id": "g_sYRldqeX_s",
      "execution_count": 40,
      "outputs": []
    },
    {
      "cell_type": "code",
      "source": [
        "new_examples = get_examples(new)"
      ],
      "metadata": {
        "id": "M1rcSdM3kueW"
      },
      "id": "M1rcSdM3kueW",
      "execution_count": 41,
      "outputs": []
    },
    {
      "cell_type": "code",
      "source": [
        "len(list(chain(*[i.split() for i,j in new_examples])))"
      ],
      "metadata": {
        "id": "L5KCY9C4rU9v",
        "colab": {
          "base_uri": "https://localhost:8080/"
        },
        "outputId": "f696a0f5-44b3-44d7-c024-3b7959a3aad4"
      },
      "id": "L5KCY9C4rU9v",
      "execution_count": 42,
      "outputs": [
        {
          "output_type": "execute_result",
          "data": {
            "text/plain": [
              "88461"
            ]
          },
          "metadata": {},
          "execution_count": 42
        }
      ]
    },
    {
      "cell_type": "code",
      "source": [
        "len(new_examples)"
      ],
      "metadata": {
        "colab": {
          "base_uri": "https://localhost:8080/"
        },
        "id": "IoMCk6DP0oBt",
        "outputId": "4cbcc08e-5c74-44aa-df1b-feba7318d09a"
      },
      "id": "IoMCk6DP0oBt",
      "execution_count": 43,
      "outputs": [
        {
          "output_type": "execute_result",
          "data": {
            "text/plain": [
              "7690"
            ]
          },
          "metadata": {},
          "execution_count": 43
        }
      ]
    },
    {
      "cell_type": "code",
      "source": [
        "source, target = df[\"source\"].tolist(), df[\"target\"].tolist()"
      ],
      "metadata": {
        "id": "yxfw0CmDr2oH"
      },
      "id": "yxfw0CmDr2oH",
      "execution_count": 44,
      "outputs": []
    },
    {
      "cell_type": "code",
      "source": [
        "for s, t in new_examples:\n",
        "  source.append(s)\n",
        "  target.append(t)"
      ],
      "metadata": {
        "id": "9zeKSO-iq2en"
      },
      "id": "9zeKSO-iq2en",
      "execution_count": 45,
      "outputs": []
    }
  ],
  "metadata": {
    "colab": {
      "machine_shape": "hm",
      "provenance": [],
      "gpuType": "T4"
    },
    "gpuClass": "standard",
    "kernelspec": {
      "display_name": "Python 3 (ipykernel)",
      "language": "python",
      "name": "python3"
    },
    "language_info": {
      "codemirror_mode": {
        "name": "ipython",
        "version": 3
      },
      "file_extension": ".py",
      "mimetype": "text/x-python",
      "name": "python",
      "nbconvert_exporter": "python",
      "pygments_lexer": "ipython3",
      "version": "3.10.6"
    },
    "accelerator": "TPU"
  },
  "nbformat": 4,
  "nbformat_minor": 5
}